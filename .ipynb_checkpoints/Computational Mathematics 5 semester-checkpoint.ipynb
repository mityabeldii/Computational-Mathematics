{
 "cells": [
  {
   "cell_type": "code",
   "execution_count": 109,
   "metadata": {},
   "outputs": [],
   "source": [
    "import matplotlib\n",
    "import matplotlib.pyplot as plt\n",
    "import numpy as np\n",
    "from numpy import *\n",
    "import math\n",
    "from time import *\n",
    "import time\n",
    "from math import *"
   ]
  },
  {
   "cell_type": "markdown",
   "metadata": {
    "slideshow": {
     "slide_type": "subslide"
    }
   },
   "source": [
    "# IV.12.8(e)"
   ]
  },
  {
   "cell_type": "code",
   "execution_count": 110,
   "metadata": {},
   "outputs": [],
   "source": [
    "def derivtive(f, x_0, h):\n",
    "    return (f(x_0 + h) - f(x_0 - h)) / (2 * h)\n",
    "\n",
    "def dderivtive(f, x_0, h):\n",
    "    return (f(x_0 + h) - 2 * f(x_0) + f(x_0 - h)) / (h * h)\n",
    "\n",
    "\n",
    "def nu_tone(f, x_0, derivtive_accuracy):\n",
    "    return -1 / derivtive(f, x_0, derivtive_accuracy)\n",
    "\n",
    "def fixed_point_iteration(f, alpha, x_0, derivtive_accuracy):\n",
    "    x_1 = x_0 + alpha(f, x_0, derivtive_accuracy) * f(x_0)\n",
    "    while (abs(x_1 - x_0) > derivtive_accuracy):\n",
    "        x_0 = x_1\n",
    "        x_1 = x_0 + alpha(f, x_0, derivtive_accuracy) * f(x_0)\n",
    "    return x_1\n",
    "\n",
    "def lstsq(x, y):\n",
    "    a = (average([x[i] * y[i] for i in range(x.size)]) - average(x) * average(y)) / (average([x[i]**2 for i in range(x.size)]) - average(x)**2)\n",
    "    b = average(y) - a * average(x)\n",
    "    return a, b\n",
    "\n",
    "def TDMA(A, F):\n",
    "    n = F.size - 1\n",
    "    a, b, c, d = [0]*(n + 1), [0]*(n + 1), [0]*(n + 1), list(F)\n",
    "    for i in range(n + 1):\n",
    "        a[i] = A[i][i - 1]\n",
    "        b[i] = A[i][i]\n",
    "        if (i < n): c[i] = A[i][i + 1]\n",
    "    ac, bc, cc, dc = map(np.array, (a, b, c, d))\n",
    "    xc = []\n",
    "    for j in range(2, n + 1):\n",
    "        ac[j] = ac[j] / bc[j-1]\n",
    "        bc[j] = bc[j] - ac[j]*cc[j-1]\n",
    "    for j in range(2, n + 1):\n",
    "        dc[j] -= ac[j]*dc[j-1]\n",
    "    dc[n] /= bc[n]\n",
    "    for j in range(n-1, -1, -1):\n",
    "        dc[j] = (dc[j] - cc[j]*dc[j+1])/bc[j]\n",
    "    return dc"
   ]
  },
  {
   "cell_type": "code",
   "execution_count": 111,
   "metadata": {},
   "outputs": [
    {
     "name": "stdout",
     "output_type": "stream",
     "text": [
      "x_max = 0.5\n",
      "f(x_max) =  0.429\n",
      "x_1 =  0.051\n",
      "x_2 =  1.846\n",
      "delta =  1.795\n"
     ]
    }
   ],
   "source": [
    "def main():\n",
    "    x_max = 1 / 2\n",
    "    dec = 3\n",
    "    eps = math.pow(10, -dec)\n",
    "\n",
    "    def f(x): return math.sqrt(x) * math.exp(-x)\n",
    "    def g(x): return f(x) - f(x_max) / 2\n",
    "\n",
    "    x_1 = fixed_point_iteration(g, nu_tone, eps, eps)\n",
    "    x_2 = fixed_point_iteration(g, nu_tone, 2, eps)\n",
    "\n",
    "    print(\"x_max =\", x_max)\n",
    "    print(\"f(x_max) = \", round(f(x_max), dec))\n",
    "    print(\"x_1 = \", round(x_1, dec))\n",
    "    print(\"x_2 = \", round(x_2, dec))\n",
    "    print(\"delta = \", round(abs(x_2 - x_1), dec))\n",
    "\n",
    "main()"
   ]
  },
  {
   "cell_type": "markdown",
   "metadata": {},
   "source": [
    "# VI.9.32"
   ]
  },
  {
   "cell_type": "code",
   "execution_count": 112,
   "metadata": {},
   "outputs": [],
   "source": [
    "def linear_approximation(x, y, x_0):\n",
    "    nodes_number, i = x.size, 0\n",
    "    while (abs(x_0) > abs(x[i + 1]) and i < nodes_number): i += 1\n",
    "    return y[i] + (x_0 - x[i]) / (x[i + 1] - x[i]) * (y[i + 1] - y[i])\n",
    "\n",
    "def nu_tone_approximation(x, y, x_0):\n",
    "    \n",
    "    def f(i, j = None):\n",
    "        if j is None or i == j:\n",
    "            return y[i]\n",
    "        if j == i + 1:\n",
    "            return (y[i] - y[j]) / (x[i] - x[j])\n",
    "        else:\n",
    "            k = j - i\n",
    "            return (f(i + 1, i + k) - f(i, i + k - 1)) / (x[i + k] - x[i])\n",
    "    \n",
    "    P = 0\n",
    "    for i in range(len(x)):\n",
    "        x_multiply = 1\n",
    "        for j in range(i):\n",
    "            x_multiply *= (x_0 - x[j])\n",
    "        P += x_multiply * f(0, i)\n",
    "#     return int(P)\n",
    "    return P\n",
    "\n",
    "def spline_approximation(x, y, x_0):\n",
    "    def h(i): return x[i] - x[i - 1]\n",
    "    def u_2(i): return (y[i] - y[i - 1]) / h(i)\n",
    "    def u_3(i): return (u_2(i) - u_2(i - 1)) / (x[i] - x[i - 2])\n",
    "    a = y\n",
    "    b = np.zeros(len(x))\n",
    "    d = np.zeros(len(x))\n",
    "    A = np.zeros((len(x), len(x)))\n",
    "    l = np.zeros(len(x))\n",
    "    for i in range (1, len(x) - 1):\n",
    "        l[i] = 6 * u_3(i + 1)\n",
    "        if i > 1: A[i][i - 1] = h(i) / (h(i) + h(i + 1))\n",
    "        A[i][i] = 2\n",
    "        if i < len(x) - 2: A[i][i + 1] = h(i + 1) / (h(i) + h(i + 1))\n",
    "    \n",
    "    A_ = np.zeros((len(x) - 2, len(x) - 2))\n",
    "    l_ = np.zeros(len(x) - 2)\n",
    "    for i in range (1, len(x) - 1):\n",
    "        for j in range(1, len(x) - 1):\n",
    "            A_[i - 1][j - 1] = A[i][j]\n",
    "            l_[i - 1] = l[i]\n",
    "    \n",
    "    c = np.append(np.append(0, np.linalg.solve(A_, l_)), 0)\n",
    "    b[1] = c[1] * h(1) / 3 + u_2(1)\n",
    "    d[1] = h(1) / c[1]\n",
    "    for i in range(1, len(x)):\n",
    "        b[i] = c[i] * h(i) / 3 + c[i - 1] * h(i) / 6 + u_2(i)\n",
    "        d[i] = (c[i] - c[i - 1]) / h(i)\n",
    "    \n",
    "    i = 0\n",
    "    while i < len(x) - 1 and x[i] < x_0 : i += 1\n",
    "#     return int(a[i] + b[i] * (x_0 - x[i]) + c[i] * math.pow((x_0 - x[i]), 2) / 2 + d[i] * math.pow((x_0 - x[i]), 3) / 6)\n",
    "    return a[i] + b[i] * (x_0 - x[i]) + c[i] * math.pow((x_0 - x[i]), 2) / 2 + d[i] * math.pow((x_0 - x[i]), 3) / 6"
   ]
  },
  {
   "cell_type": "code",
   "execution_count": 113,
   "metadata": {},
   "outputs": [
    {
     "name": "stdout",
     "output_type": "stream",
     "text": [
      "Newton extrapolation for year 2010 - 827906509.0000029\n",
      "Spline extrapolation for year 2010 - 314133939.0\n",
      "Real USA population at year 2010 - 308745538\n",
      "Newton differnce - 519160971.00000286\n",
      "Spline differnce - 5388401.0\n"
     ]
    },
    {
     "data": {
      "image/png": "[encoded data removed]",
      "text/plain": [
       "<Figure size 432x288 with 1 Axes>"
      ]
     },
     "metadata": {
      "needs_background": "light"
     },
     "output_type": "display_data"
    },
    {
     "data": {
      "image/png": "[encoded data removed]",
      "text/plain": [
       "<Figure size 432x288 with 1 Axes>"
      ]
     },
     "metadata": {
      "needs_background": "light"
     },
     "output_type": "display_data"
    }
   ],
   "source": [
    "def main():\n",
    "    x = [ 1910, 1920, 1930, 1940, 1950, 1960, 1970, 1980, 1990, 2000 ]\n",
    "    y = [ 92228496, 106021537, 123202624, 132164569, 151325798, 179323175, 203211926, 226545805, 248709873, 281421906 ]\n",
    "    \n",
    "    print('Newton extrapolation for year 2010 -', nu_tone_approximation(x, y, 2010))\n",
    "    print('Spline extrapolation for year 2010 -', spline_approximation(x, y, 2010))\n",
    "    print('Real USA population at year 2010 -', 308745538)\n",
    "    print('Newton differnce -', nu_tone_approximation(x, y, 2010) - 308745538)\n",
    "    print('Spline differnce -', spline_approximation(x, y, 2010) - 308745538)\n",
    "\n",
    "    grid = np.arange(1910, 2000, 1)\n",
    "\n",
    "    plt.plot(x, y)\n",
    "    plt.plot(grid, [nu_tone_approximation(x, y, grid[i]) for i in range(grid.size)])\n",
    "    plt.title('Newtone')\n",
    "    plt.show()\n",
    "    plt.plot(x, y)\n",
    "    plt.plot(grid, [spline_approximation(x, y, grid[i]) for i in range(grid.size)])\n",
    "    plt.title('Spline')\n",
    "    plt.show()\n",
    "\n",
    "main()"
   ]
  },
  {
   "cell_type": "markdown",
   "metadata": {},
   "source": [
    "# Practical 1"
   ]
  },
  {
   "cell_type": "code",
   "execution_count": 114,
   "metadata": {},
   "outputs": [
    {
     "name": "stdout",
     "output_type": "stream",
     "text": [
      "x_1 = 0.649889 0.7600291816777508\n",
      "x_2 = -0.649889 -0.7600291816777508\n"
     ]
    }
   ],
   "source": [
    "def main():\n",
    "    dec = 6\n",
    "    eps = math.pow(10, -dec)\n",
    "\n",
    "    def f(x): return math.pow(x, 2) + math.pow(math.tan(x), 2) - 1\n",
    "    x_1 = fixed_point_iteration(f, nu_tone, 0.5, eps)\n",
    "    x_2 = fixed_point_iteration(f, nu_tone, -0.5, eps)\n",
    "\n",
    "    print(\"x_1 = {}\".format(round(x_1, dec)), math.tan(x_1))\n",
    "    print(\"x_2 = {}\".format(round(x_2, dec)), math.tan(x_2))\n",
    "\n",
    "main()"
   ]
  },
  {
   "cell_type": "markdown",
   "metadata": {},
   "source": [
    "# Practical 2"
   ]
  },
  {
   "cell_type": "code",
   "execution_count": 115,
   "metadata": {},
   "outputs": [
    {
     "name": "stdout",
     "output_type": "stream",
     "text": [
      "derivative: 2583610.59921875, delta_h: 3.814697265625e-05 year (0.33 hours)\n"
     ]
    }
   ],
   "source": [
    "def main():\n",
    "    x = [ 1910, 1920, 1930, 1940, 1950, 1960, 1970, 1980, 1990, 2000 ]\n",
    "    y = [ 92228496, 106021537, 123202624, 132164569, 151325798, 179323175, 203211926, 226545805, 248709873, 281421906 ]\n",
    "    \n",
    "    x_0 = 1950\n",
    "    eps = math.pow(10, 1)\n",
    "    def f(x_0): return spline_approximation(x, y, x_0)\n",
    "    while(derivtive(f, x_0, eps) != derivtive(f, x_0, eps / 2)):\n",
    "        eps = eps / 2\n",
    "    print('derivative: {}, delta_h: {} year ({} hours)'.format(derivtive(f, x_0, eps), eps, round(365 * 24 * eps, 2)))\n",
    "    \n",
    "main()"
   ]
  },
  {
   "cell_type": "markdown",
   "metadata": {},
   "source": [
    "# Practical 3"
   ]
  },
  {
   "cell_type": "code",
   "execution_count": 116,
   "metadata": {},
   "outputs": [
    {
     "name": "stdout",
     "output_type": "stream",
     "text": [
      "h: 1e-05, eps: 1e-06\n",
      "I: 0.010006097027000284, h: 1e-05 trapezoid_method\n",
      "I: 0.010006097027000284, h: 1e-05 simpson_method\n",
      "I: 0.010006097027000284, h: 1e-05 _3_8_method\n",
      "I: 0.010006097027000284, h: 1e-05 gaussian_method\n"
     ]
    }
   ],
   "source": [
    "h = math.pow(10, -5)\n",
    "eps = math.pow(10, -6)\n",
    "print('h: {}, eps: {}'.format(h, eps))\n",
    "\n",
    "def F(x):\n",
    "    return math.sin(100 * x) * math.exp(-x * x) * math.cos(2 * x)\n",
    "\n",
    "def gaussian_method(F, a, b):\n",
    "    return (b - a) * (F((a + b) / 2 - (b - a) / (2 * math.sqrt(3))) + F((a + b) / 2 + (b - a) / (2 * math.sqrt(3)))) / 2\n",
    "\n",
    "def trapezoid_method(F, a, b):\n",
    "    return (b - a) * (F(a) + F(b)) / 2\n",
    "\n",
    "def simpson_method(F, a, b):\n",
    "    return (b - a) * (F(a) + 4 * F((a + b) / 2) + F(b)) / 6\n",
    "\n",
    "def _3_8_method(F, a, b):\n",
    "    return (b - a) * (F(a) + 3 * F((2 * a + b) / 3) + 3 * F((a + 2 * b) / 3) + F(b)) / 8\n",
    "\n",
    "def integrate(F, a, b, delta = h, method = _3_8_method):\n",
    "    s, i = 0, a\n",
    "    while i <= b:\n",
    "        s += method(F, i, i + delta)\n",
    "        i += delta\n",
    "    return s;\n",
    "\n",
    "\n",
    "def integrate_with_accuracy(F, a, b, eps, h):\n",
    "    p = 2\n",
    "    I_h = integrate(F, a, b, h, trapezoid_method)\n",
    "    I_h_2 = integrate(F, a, b, h / 2, trapezoid_method)\n",
    "    error = (I_h_2 - I_h) / (2**p - 1)\n",
    "    answer_I = I_h\n",
    "    if (abs(error) > eps) :\n",
    "        answer_I = integrate_with_accuracy(F, a, b, eps, h / 2)\n",
    "    return answer_I\n",
    "\n",
    "def y_v_task(h = h, maethod = trapezoid_method, p = 2):\n",
    "    I_h = integrate(F, 0, 3, h, trapezoid_method)\n",
    "    I_h_2 = integrate(F, 0, 3, h / 2, trapezoid_method)\n",
    "    error = (I_h_2 - I_h) / (math.pow(2, p) - 1)\n",
    "    answer_I, answer_h = I_h, h\n",
    "    if (abs(error) > eps) :\n",
    "        answer_I, answer_h = y_v_task(h / 2)\n",
    "    return answer_I, answer_h\n",
    "\n",
    "def main():\n",
    "    result = y_v_task(h, trapezoid_method, 2)\n",
    "    print('I: {}, h: {} trapezoid_method'.format(result[0], result[1]))\n",
    "\n",
    "    result = y_v_task(h, simpson_method, 4)\n",
    "    print('I: {}, h: {} simpson_method'.format(result[0], result[1]))\n",
    "\n",
    "    result = y_v_task(h, _3_8_method, 4)\n",
    "    print('I: {}, h: {} _3_8_method'.format(result[0], result[1]))\n",
    "\n",
    "    result = y_v_task(h, gaussian_method, 2)\n",
    "    print('I: {}, h: {} gaussian_method'.format(result[0], result[1]))\n",
    "    \n",
    "main()"
   ]
  },
  {
   "cell_type": "markdown",
   "metadata": {},
   "source": [
    "# Shooting Method"
   ]
  },
  {
   "cell_type": "markdown",
   "metadata": {},
   "source": [
    "$$y''p(x,y) + y'q(x,y) + r(x,y) = 0$$\n",
    "\n",
    "$$y_2 = \\frac {-h^2 r(x,y) - \\frac {q(x,y)h} {2} (y_1 - y_0)} {p(x,y)} + 2y_1 - y_0$$"
   ]
  },
  {
   "cell_type": "code",
   "execution_count": 117,
   "metadata": {},
   "outputs": [],
   "source": [
    "def shooting_method(p, q, r, a, b, A, B, grid_steps_number = 1000, eps = math.pow(10, -3)):\n",
    "    grid_step = (b - a) / grid_steps_number\n",
    "    grid = np.arange(a, b + grid_step, grid_step)\n",
    "    x, y = grid, np.zeros(grid.size)\n",
    "    alpha, h, binary_search_step = 0, grid_step, 1\n",
    "    \n",
    "    def shoot(alpha):\n",
    "        y_ = np.zeros(grid.size)\n",
    "        y_[0], y_[1] = A, 2 * alpha * grid_step + y_[0]\n",
    "        for i in range(1, grid.size - 1):\n",
    "            y_[i + 1] = (- r(x[i], y_[i]) * h**2 - q(x[i], y_[i]) * h * (y_[i] - y_[i - 1]) / 2) / (p(x[i], y_[i])) + 2 * y_[i] - y_[i - 1]\n",
    "        return y_\n",
    "    \n",
    "    while (abs(B - shoot(alpha)[-1]) > eps):\n",
    "        if (shoot(alpha)[-1] > B): alpha -= binary_search_step\n",
    "        else:\n",
    "            if (shoot(alpha + binary_search_step)[-1] > B): binary_search_step /= 2\n",
    "            if (shoot(alpha + binary_search_step)[-1] < B): alpha += binary_search_step\n",
    "            \n",
    "    print('shooting with alpha = {}'.format(alpha))\n",
    "    def F(x_0): return spline_approximation(list(x), list(shoot(alpha)), x_0)\n",
    "    return F"
   ]
  },
  {
   "cell_type": "markdown",
   "metadata": {},
   "source": [
    "# XI.9.3(a)"
   ]
  },
  {
   "cell_type": "markdown",
   "metadata": {},
   "source": [
    "\\begin{cases} y'' - x \\sqrt{y} = 0, & \\mbox{0 $\\leq$ x $\\leq$ 1} \\\\ y(0) = 0 \\\\ y(1) = 2 \\end{cases}"
   ]
  },
  {
   "cell_type": "code",
   "execution_count": 118,
   "metadata": {},
   "outputs": [
    {
     "name": "stdout",
     "output_type": "stream",
     "text": [
      "shooting with alpha = 0.921875\n"
     ]
    },
    {
     "data": {
      "image/png": "[encoded data removed]",
      "text/plain": [
       "<Figure size 432x288 with 1 Axes>"
      ]
     },
     "metadata": {
      "needs_background": "light"
     },
     "output_type": "display_data"
    }
   ],
   "source": [
    "def main():\n",
    "    \n",
    "    def p(x, y): return 1\n",
    "    def q(x, y): return 0\n",
    "    def r(x, y): return -x * math.sqrt(abs(y))\n",
    "    a, b = 0, 1\n",
    "    A, B = 0, 2\n",
    "    \n",
    "    F = shooting_method(p, q, r, a, b, A, B, 10)\n",
    "    plt.plot(np.linspace(a, b), [F(np.linspace(a, b)[i]) for i in range(np.linspace(a, b).size)])\n",
    "    \n",
    "main()"
   ]
  },
  {
   "cell_type": "markdown",
   "metadata": {},
   "source": [
    "# Tridiagonal matrix algorithm"
   ]
  },
  {
   "cell_type": "markdown",
   "metadata": {},
   "source": [
    "$y''p(x) + y'q(x) + yr(x) + s(x) = 0$\n",
    "\n",
    "$\\frac {y_2 - 2y_1 + y_0} {h^2} p(x) + \\frac {y_2 - y_1} {h} q(x) + y_1 r(x) + s(x,y) = 0$\n",
    "\n",
    "$y_2(p(x) + hq(x)) + y_1(-2p(x) - hq(x) + h^2r(x)) + p(x)y_0 + s(x)h^2 = 0$\n",
    "\n",
    "$a = p(x) + hq(x)\\\\\n",
    "b = -2p(x) - hq(x) + h^2r(x)\\\\\n",
    "c = p(x)\\\\\n",
    "d = -s(x)h^2$\n",
    "\n",
    "$AX=F$"
   ]
  },
  {
   "cell_type": "code",
   "execution_count": 119,
   "metadata": {},
   "outputs": [],
   "source": [
    "def tridiagonal_matrix_algorithm(p, g, h ,f, a, b, phi, psy, n):\n",
    "    tau = (b - a) / n\n",
    "    x = np.linspace(a, b, n + 1)\n",
    "    A = np.zeros([n + 1, n + 1])\n",
    "    F = np.zeros(n + 1)\n",
    "    \n",
    "    for i in range(1, n):\n",
    "        A[i][i] = -2 - g(x[i]) * tau + tau**2 * h(x[i])\n",
    "        A[i][i + 1] = 1 + g(x[i]) * tau\n",
    "        A[i][i - 1] = 1\n",
    "        F[i] = tau**2 * f(x[i])\n",
    "    A[0][0], A[n][n] = 1, 1\n",
    "    F[0], F[n] = phi, psy\n",
    "    y = np.linalg.solve(A, F)\n",
    "#     y = TDMA(A, F)\n",
    "    return y"
   ]
  },
  {
   "cell_type": "markdown",
   "metadata": {},
   "source": [
    "# Practical 4"
   ]
  },
  {
   "cell_type": "code",
   "execution_count": 120,
   "metadata": {},
   "outputs": [
    {
     "data": {
      "image/png": "[encoded data removed]",
      "text/plain": [
       "<Figure size 432x288 with 1 Axes>"
      ]
     },
     "metadata": {
      "needs_background": "light"
     },
     "output_type": "display_data"
    }
   ],
   "source": [
    "def main():\n",
    "    \n",
    "    n = 50\n",
    "    a, b = 0, pi / 2\n",
    "    phi, psy = 0, pi**2 / 4 + e**(pi / 2)\n",
    "        \n",
    "    def Equel_one(x): return 1\n",
    "\n",
    "    def g(x): return x**2 - 3\n",
    "    def h(x): return (x**2 - 3) * cos(x)\n",
    "    def f(x): return 2 + 2 * x**3 - 6*x  + (x**2 - 3) * e**x * sin(x) * (1 + cos(x)) + cos(x) * (e**x * (x**2 - 1) + x**4 - 3 * x**2)\n",
    "    x = linspace(a, b, n + 1)\n",
    "    y = tridiagonal_matrix_algorithm(Equel_one, g, h ,f, a, b, phi, psy, n)\n",
    "\n",
    "    def F_analytical(x): return x**2 + math.e**x * math.sin(x)\n",
    "    plt.plot(x, [F_analytical(x[i]) for i in range(x.size)])\n",
    "    plt.plot(x, y)\n",
    "    \n",
    "main()"
   ]
  },
  {
   "cell_type": "markdown",
   "metadata": {},
   "source": [
    "# Practical 5"
   ]
  },
  {
   "cell_type": "code",
   "execution_count": 121,
   "metadata": {},
   "outputs": [
    {
     "name": "stdout",
     "output_type": "stream",
     "text": [
      "shooting with alpha = 0.572021484375\n",
      "0.5 0.10484119778475744 -0.34657359027997264\n",
      "1.0 0.10484119778475744 0.0\n",
      "1.5 0.3520630755605382 0.6081976621622466\n",
      "2.0 0.9316190654093321 1.3862943611198906\n",
      "2.5 2.0016293633187217 2.2907268296853878\n",
      "3.0 3.594647474892269 3.295836866004329\n"
     ]
    },
    {
     "data": {
      "image/png": "[encoded data removed]",
      "text/plain": [
       "<Figure size 432x288 with 1 Axes>"
      ]
     },
     "metadata": {
      "needs_background": "light"
     },
     "output_type": "display_data"
    }
   ],
   "source": [
    "def main():\n",
    "    \n",
    "    def shooting_method_5(a, b, A, B, grid_steps_number = 100, eps = math.pow(10, -3)):\n",
    "        grid_step = (b - a) / grid_steps_number\n",
    "        grid = np.arange(a, b + grid_step, grid_step)\n",
    "        x, y = grid, np.zeros(grid.size)\n",
    "        alpha, h, binary_search_step = 0, grid_step, 1\n",
    "\n",
    "        def shoot(alpha):\n",
    "            y_ = np.zeros(grid.size)\n",
    "            y_[0], y_[1] = A, 2 * alpha * grid_step + y_[0]\n",
    "            for i in range(1, grid.size - 1):\n",
    "                y_[i + 1] = math.sqrt(1 / x[i]**2 + y_[i]**2 * math.e / math.log(x[i]) - y[i] * math.e**((y_[i] - y_[i - 1]) / h)) * h**2 + 2 * y_[i] - y_[i - 1]\n",
    "            return y_\n",
    "\n",
    "        while (abs(B - shoot(alpha)[-1]) > eps):\n",
    "            if (shoot(alpha)[-1] > B): alpha -= binary_search_step\n",
    "            else:\n",
    "                if (shoot(alpha + binary_search_step)[-1] > B): binary_search_step /= 2\n",
    "                if (shoot(alpha + binary_search_step)[-1] < B): alpha += binary_search_step\n",
    "\n",
    "        print('shooting with alpha = {}'.format(alpha))\n",
    "        def F(x_0): return spline_approximation(list(x), list(shoot(alpha)), x_0)\n",
    "        return F\n",
    "    #     return shoot(alpha)\n",
    "    \n",
    "    def f(x, y): return -(x**2 - 2) * math.cos(x) * y[i] - math.e**x * x**2  * math.cos(x) - 2 - 2 * x**3 + x**4 - 2 * x**2\n",
    "    a, b = 1.1, math.e\n",
    "    A, B = math.log(1.1) * 1.1, math.e\n",
    "    \n",
    "    F_numerical = shooting_method_5(a, b, A, B, 10)\n",
    "    def F_analytical(x): return x * math.log(x)\n",
    "    plt.plot(np.linspace(a, b), [F_numerical(np.linspace(a, b)[i]) for i in range(np.linspace(a, b).size)])\n",
    "    plt.plot(np.linspace(a, b), [F_analytical(np.linspace(a, b)[i]) for i in range(np.linspace(a, b).size)])\n",
    "    \n",
    "    array = np.linspace(0.5, 3, 6)\n",
    "    for i in range(array.size):\n",
    "        print(array[i], F_numerical(array[i]), F_analytical(array[i]))\n",
    "    \n",
    "    \n",
    "main()"
   ]
  },
  {
   "cell_type": "markdown",
   "metadata": {},
   "source": [
    "# Ann Strizh task"
   ]
  },
  {
   "cell_type": "code",
   "execution_count": 122,
   "metadata": {},
   "outputs": [
    {
     "name": "stdout",
     "output_type": "stream",
     "text": [
      "0.08682564263983401\n"
     ]
    },
    {
     "data": {
      "image/png": "[encoded data removed]",
      "text/plain": [
       "<Figure size 432x288 with 1 Axes>"
      ]
     },
     "metadata": {
      "needs_background": "light"
     },
     "output_type": "display_data"
    }
   ],
   "source": [
    "def main():\n",
    "\n",
    "    nodes_number, x_0, eps = 100, -0.32, 10**-3\n",
    "    def F(t): return math.log(0.001 + math.tan(math.pi * t / 4))\n",
    "    def ksi(x): return integrate_with_accuracy(F, 0, x, eps, 10**-1)\n",
    "\n",
    "    y = np.linspace(0, 1, nodes_number)\n",
    "    x = np.array([ksi(y[i]) for i in range(nodes_number)])\n",
    "    \n",
    "    print(linear_approximation(x, y, x_0))\n",
    "    plt.plot(x, y, '.')\n",
    "    plt.show()\n",
    "    \n",
    "main()"
   ]
  },
  {
   "cell_type": "markdown",
   "metadata": {},
   "source": [
    "# Poisson Equation\n",
    "SGS\n",
    "$$\\frac {\\delta^2 \\phi} {\\delta x^2} = -4\\pi\\rho$$\n",
    "SI\n",
    "$$\\frac {\\delta^2 \\phi} {\\delta x^2} = -\\frac {\\rho} {\\epsilon_0}$$\n",
    "Electric Field\n",
    "$$E = - \\frac {\\delta \\phi} {\\delta x}$$"
   ]
  },
  {
   "cell_type": "code",
   "execution_count": 123,
   "metadata": {},
   "outputs": [
    {
     "data": {
      "image/png": "[encoded data removed]",
      "text/plain": [
       "<Figure size 432x288 with 1 Axes>"
      ]
     },
     "metadata": {
      "needs_background": "light"
     },
     "output_type": "display_data"
    },
    {
     "data": {
      "image/png": "[encoded data removed]",
      "text/plain": [
       "<Figure size 432x288 with 1 Axes>"
      ]
     },
     "metadata": {
      "needs_background": "light"
     },
     "output_type": "display_data"
    }
   ],
   "source": [
    "def main():\n",
    "    \n",
    "    n = 100\n",
    "    a, b = 0, 1000\n",
    "    phi, psy = 0, 1000\n",
    "    eps = 8.85 * 10**-12\n",
    "        \n",
    "    def p(x): return 1\n",
    "    def q(x): return 0\n",
    "    def r(x): return 0\n",
    "    def s(x): return -(10**-6 * e**(-(x - 500)**2 / 1000)) / eps\n",
    "    x = linspace(a, b, n + 1)\n",
    "    y = tridiagonal_matrix_algorithm(p, q, r ,s, a, b, phi, psy, n)\n",
    "    \n",
    "    def Answer(x_0): return -spline_approximation(x, y, x_0)\n",
    "\n",
    "    plt.plot(x, y)\n",
    "    plt.title('phi')\n",
    "    plt.show()\n",
    "    plt.plot([x[i] for i in range(1, x.size)], [derivtive(Answer, x[i], 10**-2) for i in range(1, x.size)])\n",
    "    plt.title('Electric field')\n",
    "    plt.show()\n",
    "    \n",
    "main()"
   ]
  },
  {
   "cell_type": "code",
   "execution_count": null,
   "metadata": {},
   "outputs": [],
   "source": []
  }
 ],
 "metadata": {
  "kernelspec": {
   "display_name": "Python 3",
   "language": "python",
   "name": "python3"
  },
  "language_info": {
   "codemirror_mode": {
    "name": "ipython",
    "version": 3
   },
   "file_extension": ".py",
   "mimetype": "text/x-python",
   "name": "python",
   "nbconvert_exporter": "python",
   "pygments_lexer": "ipython3",
   "version": "3.7.1"
  }
 },
 "nbformat": 4,
 "nbformat_minor": 2
}
