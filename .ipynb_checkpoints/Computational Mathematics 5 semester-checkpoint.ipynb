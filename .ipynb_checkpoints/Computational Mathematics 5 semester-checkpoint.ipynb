{
 "cells": [
  {
   "cell_type": "code",
   "execution_count": 1,
   "metadata": {},
   "outputs": [],
   "source": [
    "import math\n",
    "\n",
    "def derivtive(f, x_0, h):\n",
    "    return (f(x_0 + h) - f(x_0 - h)) / (2 * h)"
   ]
  },
  {
   "cell_type": "code",
   "execution_count": 204,
   "metadata": {
    "slideshow": {
     "slide_type": "subslide"
    }
   },
   "outputs": [],
   "source": [
    "# IV.12.8(e)"
   ]
  },
  {
   "cell_type": "code",
   "execution_count": 205,
   "metadata": {},
   "outputs": [],
   "source": [
    "def diff(f, x_0):\n",
    "    return derivtive(f, x_0, eps)\n",
    "\n",
    "def nu_tone(f, x_0):\n",
    "    return -1 / diff(f, x_0)\n",
    "\n",
    "def fixed_point_iteration(f, alpha, x_0):\n",
    "    x_1 = x_0 + alpha(f, x_0) * f(x_0)\n",
    "    while (abs(x_1 - x_0) > eps):\n",
    "        x_0 = x_1\n",
    "        x_1 = x_0 + alpha(f, x_0) * f(x_0)\n",
    "    return x_1"
   ]
  },
  {
   "cell_type": "code",
   "execution_count": 206,
   "metadata": {},
   "outputs": [
    {
     "name": "stdout",
     "output_type": "stream",
     "text": [
      "x_max = 0.5\n",
      "f(x_max) =  0.429\n",
      "x_1 =  0.051\n",
      "x_2 =  1.846\n",
      "delta =  1.795\n"
     ]
    }
   ],
   "source": [
    "x_max = 1 / 2\n",
    "dec = 3\n",
    "eps = math.pow(10, -dec)\n",
    "\n",
    "def f(x): return math.sqrt(x) * math.exp(-x)\n",
    "def alpha(x): return f(x) - f(x_max) / 2\n",
    "def g(x): return f(x) - f(x_max) / 2\n",
    "\n",
    "x_1 = fixed_point_iteration(g, nu_tone, eps)\n",
    "x_2 = fixed_point_iteration(g, nu_tone, 2)\n",
    "    \n",
    "print(\"x_max =\", x_max)\n",
    "print(\"f(x_max) = \", round(f(x_max), dec))\n",
    "print(\"x_1 = \", round(x_1, dec))\n",
    "print(\"x_2 = \", round(x_2, dec))\n",
    "print(\"delta = \", round(abs(x_2 - x_1), dec))"
   ]
  },
  {
   "cell_type": "code",
   "execution_count": null,
   "metadata": {},
   "outputs": [],
   "source": [
    "# VI.9.32"
   ]
  },
  {
   "cell_type": "code",
   "execution_count": 80,
   "metadata": {},
   "outputs": [],
   "source": [
    "import matplotlib\n",
    "import matplotlib.pyplot as plt\n",
    "import numpy as np\n",
    "import math\n",
    "\n",
    "x = [ 1910, 1920, 1930, 1940, 1950, 1960, 1970, 1980, 1990, 2000 ]\n",
    "y = [ 92228496, 106021537, 123202624, 132164569, 151325798, 179323175, 203211926, 226545805, 248709873, 281421906 ]\n",
    "\n",
    "def f(i, j = None):\n",
    "    if j is None or i == j:\n",
    "        return y[i]\n",
    "    if j == i + 1:\n",
    "        return (y[i] - y[j]) / (x[i] - x[j])\n",
    "    else:\n",
    "        k = j - i\n",
    "        return (f(i + 1, i + k) - f(i, i + k - 1)) / (x[i + k] - x[i])\n",
    "    \n",
    "def nu_tone(x_0):\n",
    "    P = 0\n",
    "    for i in range(len(x)):\n",
    "        x_multiply = 1\n",
    "        for j in range(i):\n",
    "            x_multiply *= (x_0 - x[j])\n",
    "        P += x_multiply * f(0, i)\n",
    "    return int(P)\n",
    "\n",
    "def spline_approximation(x_0):\n",
    "    def h(i): return x[i] - x[i - 1]\n",
    "    def u_2(i): return (y[i] - y[i - 1]) / h(i)\n",
    "    def u_3(i): return (u_2(i) - u_2(i - 1)) / (x[i] - x[i - 2])\n",
    "    a = y\n",
    "    b = np.zeros(len(x))\n",
    "    d = np.zeros(len(x))\n",
    "    A = np.zeros((len(x), len(x)))\n",
    "    l = np.zeros(len(x))\n",
    "    for i in range (1, len(x) - 1):\n",
    "        if i > 1:\n",
    "            A[i][i - 1] = h(i) / (h(i) + h(i + 1))\n",
    "        A[i][i] = 2\n",
    "        if i < len(x) - 2: A[i][i + 1] = h(i + 1) / (h(i) + h(i + 1))\n",
    "        l[i] = 6 * u_3(i + 1)\n",
    "    \n",
    "    A_ = np.zeros((len(x) - 2, len(x) - 2))\n",
    "    l_ = np.zeros(len(x) - 2)\n",
    "    for i in range (1, len(x) - 1):\n",
    "        for j in range(1, len(x) - 1):\n",
    "            A_[i - 1][j - 1] = A[i][j]\n",
    "            l_[i - 1] = l[i]\n",
    "    \n",
    "    c = np.append(np.append(0, np.linalg.solve(A_, l_)), 0)\n",
    "    b[1] = c[1] * h(1) / 3 + u_2(1)\n",
    "    d[1] = h(1) / c[1]\n",
    "    for i in range(1, len(x)):\n",
    "        b[i] = c[i] * h(i) / 3 + c[i - 1] * h(i) / 6 + u_2(i)\n",
    "        d[i] = (c[i] - c[i - 1]) / h(i)\n",
    "    \n",
    "    i = len(x) - 1\n",
    "    return int(a[i] + b[i] * (x_0 - x[i]) + c[i] * math.pow((x_0 - x[i]), 2) / 2 + d[i] * math.pow((x_0 - x[i]), 3) / 6)"
   ]
  },
  {
   "cell_type": "code",
   "execution_count": 81,
   "metadata": {},
   "outputs": [
    {
     "name": "stdout",
     "output_type": "stream",
     "text": [
      "Newton extrapolation for year 2010 - 827906509\n",
      "Spline extrapolation for year 2010 - 314133939\n",
      "Real USA population at year 2010 - 308745538\n",
      "Newton differnce - 519160971\n",
      "Spline differnce - 5388401\n"
     ]
    }
   ],
   "source": [
    "print('Newton extrapolation for year 2010 -', nu_tone(2010))\n",
    "print('Spline extrapolation for year 2010 -', spline_approximation(2010))\n",
    "print('Real USA population at year 2010 -', 308745538)\n",
    "print('Newton differnce -', nu_tone(2010) - 308745538)\n",
    "print('Spline differnce -', spline_approximation(2010) - 308745538)"
   ]
  },
  {
   "cell_type": "code",
   "execution_count": null,
   "metadata": {},
   "outputs": [],
   "source": [
    "# Theoretical 3"
   ]
  },
  {
   "cell_type": "code",
   "execution_count": 49,
   "metadata": {},
   "outputs": [
    {
     "name": "stdout",
     "output_type": "stream",
     "text": [
      "-0.001323565135772419 trapezoid_method\n",
      "-0.0013409603860537252 gaussian_method\n",
      "-0.0013409793355425286 simpson_method\n",
      "-0.0013409730172002723 _3_8_method\n"
     ]
    }
   ],
   "source": [
    "import math\n",
    "\n",
    "eps = math.pow(10, -6)\n",
    "def F(x):\n",
    "    return math.sin(100 * x) * math.exp(-x * x) * math.cos(2 * x)\n",
    "\n",
    "def gaussian_method(F, a, b):\n",
    "    return (b - a) * (F((a + b) / 2 - (b - a) / (2 * math.sqrt(3))) + F((a + b) / 2 + (b - a) / (2 * math.sqrt(3)))) / 2\n",
    "\n",
    "def trapezoid_method(F, a, b):\n",
    "    return (b - a) * (F(a) + F(b)) / 2\n",
    "\n",
    "def simpson_method(F, a, b):\n",
    "    return (b - a) * (F(a) + 4 * F((a + b) / 2) + F(b)) / 6\n",
    "\n",
    "def _3_8_method(F, a, b):\n",
    "    return (b - a) * (F(a) + 3 * F((2 * a + b) / 3) + 3 * F((a + 2 * b) / 3) + F(b)) / 8\n",
    "\n",
    "def integrate(F, a, b, delta, method):\n",
    "    s, i = 0, a\n",
    "    while i <= b:\n",
    "        s += method(F, i, i + delta)\n",
    "        i = i + delta\n",
    "    return s;\n",
    "\n",
    "\n",
    "print(integrate(F, 1, 3, eps, trapezoid_method), 'trapezoid_method')\n",
    "print(integrate(F, 1, 3, eps, gaussian_method), 'gaussian_method')\n",
    "print(integrate(F, 1, 3, eps, simpson_method), 'simpson_method')\n",
    "print(integrate(F, 1, 3, eps, _3_8_method), '_3_8_method')"
   ]
  },
  {
   "cell_type": "code",
   "execution_count": null,
   "metadata": {},
   "outputs": [],
   "source": []
  },
  {
   "cell_type": "code",
   "execution_count": null,
   "metadata": {},
   "outputs": [],
   "source": []
  },
  {
   "cell_type": "code",
   "execution_count": null,
   "metadata": {},
   "outputs": [],
   "source": []
  }
 ],
 "metadata": {
  "kernelspec": {
   "display_name": "Python 3",
   "language": "python",
   "name": "python3"
  },
  "language_info": {
   "codemirror_mode": {
    "name": "ipython",
    "version": 3
   },
   "file_extension": ".py",
   "mimetype": "text/x-python",
   "name": "python",
   "nbconvert_exporter": "python",
   "pygments_lexer": "ipython3",
   "version": "3.7.1"
  }
 },
 "nbformat": 4,
 "nbformat_minor": 2
}
