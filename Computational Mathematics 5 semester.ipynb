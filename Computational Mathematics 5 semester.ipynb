{
 "cells": [
  {
   "cell_type": "code",
   "execution_count": 203,
   "metadata": {},
   "outputs": [],
   "source": [
    "import math\n",
    "\n",
    "def derivtive(f, x_0, h):\n",
    "    return (f(x_0 + h) - f(x_0 - h)) / (2 * h)"
   ]
  },
  {
   "cell_type": "code",
   "execution_count": 204,
   "metadata": {
    "slideshow": {
     "slide_type": "subslide"
    }
   },
   "outputs": [],
   "source": [
    "# IV.12.8(e)"
   ]
  },
  {
   "cell_type": "code",
   "execution_count": 205,
   "metadata": {},
   "outputs": [],
   "source": [
    "def diff(f, x_0):\n",
    "    return derivtive(f, x_0, eps)\n",
    "\n",
    "def nu_tone(f, x_0):\n",
    "    return -1 / diff(f, x_0)\n",
    "\n",
    "def fixed_point_iteration(f, alpha, x_0):\n",
    "    x_1 = x_0 + alpha(f, x_0) * f(x_0)\n",
    "    while (abs(x_1 - x_0) > eps):\n",
    "        x_0 = x_1\n",
    "        x_1 = x_0 + alpha(f, x_0) * f(x_0)\n",
    "    return x_1"
   ]
  },
  {
   "cell_type": "code",
   "execution_count": 206,
   "metadata": {},
   "outputs": [
    {
     "name": "stdout",
     "output_type": "stream",
     "text": [
      "x_max = 0.5\n",
      "f(x_max) =  0.429\n",
      "x_1 =  0.051\n",
      "x_2 =  1.846\n",
      "delta =  1.795\n"
     ]
    }
   ],
   "source": [
    "x_max = 1 / 2\n",
    "dec = 3\n",
    "eps = math.pow(10, -dec)\n",
    "\n",
    "def f(x): return math.sqrt(x) * math.exp(-x)\n",
    "def alpha(x): return f(x) - f(x_max) / 2\n",
    "def g(x): return f(x) - f(x_max) / 2\n",
    "\n",
    "x_1 = fixed_point_iteration(g, nu_tone, eps)\n",
    "x_2 = fixed_point_iteration(g, nu_tone, 2)\n",
    "    \n",
    "print(\"x_max =\", x_max)\n",
    "print(\"f(x_max) = \", round(f(x_max), dec))\n",
    "print(\"x_1 = \", round(x_1, dec))\n",
    "print(\"x_2 = \", round(x_2, dec))\n",
    "print(\"delta = \", round(abs(x_2 - x_1), dec))"
   ]
  },
  {
   "cell_type": "code",
   "execution_count": null,
   "metadata": {},
   "outputs": [],
   "source": [
    "# VI.9.32"
   ]
  },
  {
   "cell_type": "code",
   "execution_count": 194,
   "metadata": {},
   "outputs": [
    {
     "name": "stdout",
     "output_type": "stream",
     "text": [
      "[1910, 92228496]\n"
     ]
    }
   ],
   "source": [
    "data = [\n",
    "    [ 1910, 92228496 ],\n",
    "    [ 1920, 106021537 ],\n",
    "    [ 1930, 123202624 ],\n",
    "    [ 1940, 132164569 ],\n",
    "    [ 1950, 151325798 ],\n",
    "    [ 1960, 179323175 ],\n",
    "    [ 1970, 203211926 ],\n",
    "    [ 1980, 226545805 ],\n",
    "    [ 1990, 248709873 ],\n",
    "    [ 2000, 281421906 ],\n",
    "]\n",
    "\n",
    "print(data[0])\n"
   ]
  }
 ],
 "metadata": {
  "kernelspec": {
   "display_name": "Python 3",
   "language": "python",
   "name": "python3"
  },
  "language_info": {
   "codemirror_mode": {
    "name": "ipython",
    "version": 3
   },
   "file_extension": ".py",
   "mimetype": "text/x-python",
   "name": "python",
   "nbconvert_exporter": "python",
   "pygments_lexer": "ipython3",
   "version": "3.7.1"
  }
 },
 "nbformat": 4,
 "nbformat_minor": 2
}
