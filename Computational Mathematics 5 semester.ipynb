{
 "cells": [
  {
   "cell_type": "code",
   "execution_count": 1,
   "metadata": {},
   "outputs": [],
   "source": [
    "import matplotlib\n",
    "import matplotlib.pyplot as plt\n",
    "import numpy as np\n",
    "import math"
   ]
  },
  {
   "cell_type": "code",
   "execution_count": 2,
   "metadata": {
    "slideshow": {
     "slide_type": "subslide"
    }
   },
   "outputs": [],
   "source": [
    "# IV.12.8(e)"
   ]
  },
  {
   "cell_type": "code",
   "execution_count": 3,
   "metadata": {},
   "outputs": [],
   "source": [
    "def derivtive(f, x_0, h):\n",
    "    return (f(x_0 + h) - f(x_0 - h)) / (2 * h)\n",
    "\n",
    "def nu_tone(f, x_0, derivtive_accuracy):\n",
    "    return -1 / derivtive(f, x_0, derivtive_accuracy)\n",
    "\n",
    "def fixed_point_iteration(f, alpha, x_0, derivtive_accuracy):\n",
    "    x_1 = x_0 + alpha(f, x_0, derivtive_accuracy) * f(x_0)\n",
    "    while (abs(x_1 - x_0) > derivtive_accuracy):\n",
    "        x_0 = x_1\n",
    "        x_1 = x_0 + alpha(f, x_0, derivtive_accuracy) * f(x_0)\n",
    "    return x_1"
   ]
  },
  {
   "cell_type": "code",
   "execution_count": 4,
   "metadata": {},
   "outputs": [
    {
     "name": "stdout",
     "output_type": "stream",
     "text": [
      "x_max = 0.5\n",
      "f(x_max) =  0.429\n",
      "x_1 =  0.051\n",
      "x_2 =  1.846\n",
      "delta =  1.795\n"
     ]
    }
   ],
   "source": [
    "def main():\n",
    "    x_max = 1 / 2\n",
    "    dec = 3\n",
    "    eps = math.pow(10, -dec)\n",
    "\n",
    "    def f(x): return math.sqrt(x) * math.exp(-x)\n",
    "    def g(x): return f(x) - f(x_max) / 2\n",
    "\n",
    "    x_1 = fixed_point_iteration(g, nu_tone, eps, eps)\n",
    "    x_2 = fixed_point_iteration(g, nu_tone, 2, eps)\n",
    "\n",
    "    print(\"x_max =\", x_max)\n",
    "    print(\"f(x_max) = \", round(f(x_max), dec))\n",
    "    print(\"x_1 = \", round(x_1, dec))\n",
    "    print(\"x_2 = \", round(x_2, dec))\n",
    "    print(\"delta = \", round(abs(x_2 - x_1), dec))\n",
    "\n",
    "main()"
   ]
  },
  {
   "cell_type": "code",
   "execution_count": 5,
   "metadata": {},
   "outputs": [],
   "source": [
    "# VI.9.32"
   ]
  },
  {
   "cell_type": "code",
   "execution_count": 6,
   "metadata": {},
   "outputs": [],
   "source": [
    "def nu_tone_approximation(x, y, x_0):\n",
    "    \n",
    "    def f(i, j = None):\n",
    "        if j is None or i == j:\n",
    "            return y[i]\n",
    "        if j == i + 1:\n",
    "            return (y[i] - y[j]) / (x[i] - x[j])\n",
    "        else:\n",
    "            k = j - i\n",
    "            return (f(i + 1, i + k) - f(i, i + k - 1)) / (x[i + k] - x[i])\n",
    "    \n",
    "    P = 0\n",
    "    for i in range(len(x)):\n",
    "        x_multiply = 1\n",
    "        for j in range(i):\n",
    "            x_multiply *= (x_0 - x[j])\n",
    "        P += x_multiply * f(0, i)\n",
    "    return int(P)\n",
    "\n",
    "def spline_approximation(x, y, x_0):\n",
    "    def h(i): return x[i] - x[i - 1]\n",
    "    def u_2(i): return (y[i] - y[i - 1]) / h(i)\n",
    "    def u_3(i): return (u_2(i) - u_2(i - 1)) / (x[i] - x[i - 2])\n",
    "    a = y\n",
    "    b = np.zeros(len(x))\n",
    "    d = np.zeros(len(x))\n",
    "    A = np.zeros((len(x), len(x)))\n",
    "    l = np.zeros(len(x))\n",
    "    for i in range (1, len(x) - 1):\n",
    "        l[i] = 6 * u_3(i + 1)\n",
    "        if i > 1: A[i][i - 1] = h(i) / (h(i) + h(i + 1))\n",
    "        A[i][i] = 2\n",
    "        if i < len(x) - 2: A[i][i + 1] = h(i + 1) / (h(i) + h(i + 1))\n",
    "    \n",
    "    A_ = np.zeros((len(x) - 2, len(x) - 2))\n",
    "    l_ = np.zeros(len(x) - 2)\n",
    "    for i in range (1, len(x) - 1):\n",
    "        for j in range(1, len(x) - 1):\n",
    "            A_[i - 1][j - 1] = A[i][j]\n",
    "            l_[i - 1] = l[i]\n",
    "    \n",
    "    c = np.append(np.append(0, np.linalg.solve(A_, l_)), 0)\n",
    "    b[1] = c[1] * h(1) / 3 + u_2(1)\n",
    "    d[1] = h(1) / c[1]\n",
    "    for i in range(1, len(x)):\n",
    "        b[i] = c[i] * h(i) / 3 + c[i - 1] * h(i) / 6 + u_2(i)\n",
    "        d[i] = (c[i] - c[i - 1]) / h(i)\n",
    "    \n",
    "    i = 0\n",
    "    while i < len(x) - 1 and x[i] < x_0 : i += 1\n",
    "    return int(a[i] + b[i] * (x_0 - x[i]) + c[i] * math.pow((x_0 - x[i]), 2) / 2 + d[i] * math.pow((x_0 - x[i]), 3) / 6)"
   ]
  },
  {
   "cell_type": "code",
   "execution_count": 17,
   "metadata": {},
   "outputs": [
    {
     "name": "stdout",
     "output_type": "stream",
     "text": [
      "Newton extrapolation for year 2010 - 827906509\n",
      "Spline extrapolation for year 2010 - 314133939\n",
      "Real USA population at year 2010 - 308745538\n",
      "Newton differnce - 519160971\n",
      "Spline differnce - 5388401\n"
     ]
    },
    {
     "data": {
      "image/png": "[encoded data removed]",
      "text/plain": [
       "<Figure size 432x288 with 1 Axes>"
      ]
     },
     "metadata": {
      "needs_background": "light"
     },
     "output_type": "display_data"
    }
   ],
   "source": [
    "def main():\n",
    "    x = [ 1910, 1920, 1930, 1940, 1950, 1960, 1970, 1980, 1990, 2000 ]\n",
    "    y = [ 92228496, 106021537, 123202624, 132164569, 151325798, 179323175, 203211926, 226545805, 248709873, 281421906 ]\n",
    "    \n",
    "    print('Newton extrapolation for year 2010 -', nu_tone_approximation(x, y, 2010))\n",
    "    print('Spline extrapolation for year 2010 -', spline_approximation(x, y, 2010))\n",
    "    print('Real USA population at year 2010 -', 308745538)\n",
    "    print('Newton differnce -', nu_tone_approximation(x, y, 2010) - 308745538)\n",
    "    print('Spline differnce -', spline_approximation(x, y, 2010) - 308745538)\n",
    "\n",
    "    a_ = np.arange(1910, 2000, 1)\n",
    "    b_ = np.zeros(a_.size)\n",
    "    c_ = np.zeros(a_.size)\n",
    "    for i in range(a_.size): b_[i] = spline_approximation(x, y, a_[i])\n",
    "    for i in range(a_.size): c_[i] = nu_tone_approximation(x, y, a_[i])\n",
    "\n",
    "#     plt.plot(x, y)\n",
    "    plt.plot(x, y)\n",
    "    plt.plot(a_, b_)\n",
    "#     plt.plot(a_, c_)\n",
    "\n",
    "main()"
   ]
  },
  {
   "cell_type": "code",
   "execution_count": 8,
   "metadata": {},
   "outputs": [],
   "source": [
    "# Practical 1"
   ]
  },
  {
   "cell_type": "code",
   "execution_count": 9,
   "metadata": {},
   "outputs": [
    {
     "name": "stdout",
     "output_type": "stream",
     "text": [
      "x_1 = 0.649889 0.7600291816777508\n",
      "x_2 = -0.649889 -0.7600291816777508\n"
     ]
    }
   ],
   "source": [
    "def main():\n",
    "    dec = 6\n",
    "    eps = math.pow(10, -dec)\n",
    "\n",
    "    def f(x): return math.pow(x, 2) + math.pow(math.tan(x), 2) - 1\n",
    "    x_1 = fixed_point_iteration(f, nu_tone, 0.5, eps)\n",
    "    x_2 = fixed_point_iteration(f, nu_tone, -0.5, eps)\n",
    "\n",
    "    print(\"x_1 = {}\".format(round(x_1, dec)), math.tan(x_1))\n",
    "    print(\"x_2 = {}\".format(round(x_2, dec)), math.tan(x_2))\n",
    "\n",
    "main()"
   ]
  },
  {
   "cell_type": "code",
   "execution_count": 10,
   "metadata": {},
   "outputs": [],
   "source": [
    "# Practical 2"
   ]
  },
  {
   "cell_type": "code",
   "execution_count": 11,
   "metadata": {},
   "outputs": [
    {
     "name": "stdout",
     "output_type": "stream",
     "text": [
      "derivative: 2583552.0, delta_h: 0.0048828125 year (42.77 hours)\n"
     ]
    }
   ],
   "source": [
    "def main():\n",
    "    x = [ 1910, 1920, 1930, 1940, 1950, 1960, 1970, 1980, 1990, 2000 ]\n",
    "    y = [ 92228496, 106021537, 123202624, 132164569, 151325798, 179323175, 203211926, 226545805, 248709873, 281421906 ]\n",
    "    \n",
    "    x_0 = 1950\n",
    "    eps = math.pow(10, 1)\n",
    "    def f(x_0): return spline_approximation(x, y, x_0)\n",
    "    while(derivtive(f, x_0, eps) != derivtive(f, x_0, eps / 2)):\n",
    "        eps = eps / 2\n",
    "    print('derivative: {}, delta_h: {} year ({} hours)'.format(derivtive(f, x_0, eps), eps, round(365 * 24 * eps, 2)))\n",
    "    \n",
    "main()"
   ]
  },
  {
   "cell_type": "code",
   "execution_count": 12,
   "metadata": {},
   "outputs": [],
   "source": [
    "# Practical 3"
   ]
  },
  {
   "cell_type": "code",
   "execution_count": 13,
   "metadata": {},
   "outputs": [
    {
     "name": "stdout",
     "output_type": "stream",
     "text": [
      "h: 1e-05, eps: 1e-06\n",
      "I: 0.010006097027000284, h: 1e-05 trapezoid_method\n",
      "I: 0.010006097027000284, h: 1e-05 simpson_method\n",
      "I: 0.010006097027000284, h: 1e-05 _3_8_method\n",
      "I: 0.010006097027000284, h: 1e-05 gaussian_method\n"
     ]
    }
   ],
   "source": [
    "h = math.pow(10, -5)\n",
    "eps = math.pow(10, -6)\n",
    "print('h: {}, eps: {}'.format(h, eps))\n",
    "\n",
    "def F(x):\n",
    "    return math.sin(100 * x) * math.exp(-x * x) * math.cos(2 * x)\n",
    "\n",
    "def gaussian_method(F, a, b):\n",
    "    return (b - a) * (F((a + b) / 2 - (b - a) / (2 * math.sqrt(3))) + F((a + b) / 2 + (b - a) / (2 * math.sqrt(3)))) / 2\n",
    "\n",
    "def trapezoid_method(F, a, b):\n",
    "    return (b - a) * (F(a) + F(b)) / 2\n",
    "\n",
    "def simpson_method(F, a, b):\n",
    "    return (b - a) * (F(a) + 4 * F((a + b) / 2) + F(b)) / 6\n",
    "\n",
    "def _3_8_method(F, a, b):\n",
    "    return (b - a) * (F(a) + 3 * F((2 * a + b) / 3) + 3 * F((a + 2 * b) / 3) + F(b)) / 8\n",
    "\n",
    "def integrate(F, a, b, delta, method):\n",
    "    s, i = 0, a\n",
    "    while i <= b:\n",
    "        s += method(F, i, i + delta)\n",
    "        i += delta\n",
    "    return s;\n",
    "\n",
    "def y_v_task(h = h, maethod = trapezoid_method, p = 2):\n",
    "    I_h = integrate(F, 0, 3, h, trapezoid_method)\n",
    "    I_h_2 = integrate(F, 0, 3, h / 2, trapezoid_method)\n",
    "    error = (I_h_2 - I_h) / (math.pow(2, p) - 1)\n",
    "    answer_I, answer_h = I_h, h\n",
    "    if (abs(error) > eps) :\n",
    "        answer_I, answer_h = y_v_task(h / 2)\n",
    "    return answer_I, answer_h\n",
    "\n",
    "def main():\n",
    "    result = y_v_task(h, trapezoid_method, 2)\n",
    "    print('I: {}, h: {} trapezoid_method'.format(result[0], result[1]))\n",
    "\n",
    "    result = y_v_task(h, simpson_method, 4)\n",
    "    print('I: {}, h: {} simpson_method'.format(result[0], result[1]))\n",
    "\n",
    "    result = y_v_task(h, _3_8_method, 4)\n",
    "    print('I: {}, h: {} _3_8_method'.format(result[0], result[1]))\n",
    "\n",
    "    result = y_v_task(h, gaussian_method, 2)\n",
    "    print('I: {}, h: {} gaussian_method'.format(result[0], result[1]))\n",
    "    \n",
    "main()"
   ]
  },
  {
   "cell_type": "code",
   "execution_count": null,
   "metadata": {},
   "outputs": [],
   "source": []
  }
 ],
 "metadata": {
  "kernelspec": {
   "display_name": "Python 3",
   "language": "python",
   "name": "python3"
  },
  "language_info": {
   "codemirror_mode": {
    "name": "ipython",
    "version": 3
   },
   "file_extension": ".py",
   "mimetype": "text/x-python",
   "name": "python",
   "nbconvert_exporter": "python",
   "pygments_lexer": "ipython3",
   "version": "3.7.1"
  }
 },
 "nbformat": 4,
 "nbformat_minor": 2
}
